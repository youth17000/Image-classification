{
 "cells": [
  {
   "cell_type": "code",
   "execution_count": 30,
   "metadata": {
    "collapsed": true
   },
   "outputs": [],
   "source": [
    "import os\n",
    "os.chdir('E:/Mission Data Scientist/INSOFE/CUTE/CUTE 4')"
   ]
  },
  {
   "cell_type": "code",
   "execution_count": 31,
   "metadata": {
    "collapsed": true
   },
   "outputs": [],
   "source": [
    "import numpy as np"
   ]
  },
  {
   "cell_type": "code",
   "execution_count": 33,
   "metadata": {
    "collapsed": true
   },
   "outputs": [],
   "source": [
    "train=np.load('train.npz')\n",
    "x_train=train['data']\n",
    "train_labels=train['labels']"
   ]
  },
  {
   "cell_type": "code",
   "execution_count": 34,
   "metadata": {
    "collapsed": true
   },
   "outputs": [],
   "source": [
    "test=np.load('test_with_labels.npz')\n",
    "x_test=test['data']\n",
    "test_labels=test['labels']"
   ]
  },
  {
   "cell_type": "code",
   "execution_count": 35,
   "metadata": {},
   "outputs": [
    {
     "name": "stdout",
     "output_type": "stream",
     "text": [
      "traindata (20000, 28, 28)\n",
      "trainlabels (20000,)\n",
      "testdata (2000, 28, 28)\n",
      "testlabels (2000,)\n"
     ]
    }
   ],
   "source": [
    "print('traindata',x_train.shape)\n",
    "print('trainlabels',train_labels.shape)\n",
    "print('testdata',x_test.shape)\n",
    "print('testlabels',test_labels.shape)"
   ]
  },
  {
   "cell_type": "code",
   "execution_count": 37,
   "metadata": {},
   "outputs": [
    {
     "data": {
      "text/plain": [
       "<matplotlib.image.AxesImage at 0x9828160>"
      ]
     },
     "execution_count": 37,
     "metadata": {},
     "output_type": "execute_result"
    },
    {
     "data": {
      "image/png": "[encoded data removed]",
      "text/plain": [
       "<matplotlib.figure.Figure at 0x92887f0>"
      ]
     },
     "metadata": {},
     "output_type": "display_data"
    }
   ],
   "source": [
    "import matplotlib.pyplot as plt\n",
    "%matplotlib inline\n",
    "plt.figure(figsize=(20,10))\n",
    "plt.subplot(3,3,1)\n",
    "plt.imshow(x_train[20],cmap='gray')\n",
    "plt.subplot(3,3,2)\n",
    "plt.imshow(x_train[150],cmap='gray')\n",
    "plt.subplot(3,3,3)\n",
    "plt.imshow(x_train[750],cmap='gray')"
   ]
  },
  {
   "cell_type": "code",
   "execution_count": 39,
   "metadata": {},
   "outputs": [
    {
     "data": {
      "text/plain": [
       "(2000, 10)"
      ]
     },
     "execution_count": 39,
     "metadata": {},
     "output_type": "execute_result"
    }
   ],
   "source": [
    "batch_size = 32\n",
    "nb_classes = 10\n",
    "nb_epoch = 25\n",
    "\n",
    "img_rows, img_cols = 28, 28\n",
    "img_channels = 1\n",
    "\n",
    "# Convert class vectors to binary class matrices.\n",
    "from keras.utils import to_categorical\n",
    "y_train = to_categorical(train_labels, nb_classes)\n",
    "y_test = to_categorical(test_labels, nb_classes)\n",
    "y_train.shape\n",
    "y_test.shape"
   ]
  },
  {
   "cell_type": "code",
   "execution_count": 40,
   "metadata": {
    "collapsed": true
   },
   "outputs": [],
   "source": [
    "from keras.models import Sequential\n",
    "from keras.layers import Dense, Dropout, Flatten\n",
    "from keras.layers import Convolution2D, MaxPooling2D\n",
    "\n",
    "model = Sequential()\n",
    "model.add(Convolution2D(filters=32, kernel_size=(3,3),padding='same', \n",
    "                        input_shape=(img_rows,img_cols,img_channels), \n",
    "                        activation='relu'))\n",
    "model.add(Convolution2D(filters=32, kernel_size=(3,3), activation='relu'))\n",
    "model.add(MaxPooling2D(pool_size=(2,2)))\n",
    "model.add(Dropout(0.25))\n",
    "\n",
    "model.add(Convolution2D(filters=64, kernel_size=(3,3), padding='same', activation='relu'))\n",
    "model.add(Convolution2D(filters=64, kernel_size=(3,3), activation='relu'))\n",
    "model.add(MaxPooling2D(pool_size=(2,2)))\n",
    "model.add(Dropout(0.25))\n",
    "\n",
    "model.add(Flatten())\n",
    "model.add(Dense(512, activation='relu'))\n",
    "model.add(Dropout(0.5))\n",
    "model.add(Dense(nb_classes, activation='softmax'))"
   ]
  },
  {
   "cell_type": "code",
   "execution_count": 41,
   "metadata": {},
   "outputs": [
    {
     "name": "stdout",
     "output_type": "stream",
     "text": [
      "_________________________________________________________________\n",
      "Layer (type)                 Output Shape              Param #   \n",
      "=================================================================\n",
      "conv2d_11 (Conv2D)           (None, 28, 28, 32)        320       \n",
      "_________________________________________________________________\n",
      "conv2d_12 (Conv2D)           (None, 26, 26, 32)        9248      \n",
      "_________________________________________________________________\n",
      "max_pooling2d_5 (MaxPooling2 (None, 13, 13, 32)        0         \n",
      "_________________________________________________________________\n",
      "dropout_7 (Dropout)          (None, 13, 13, 32)        0         \n",
      "_________________________________________________________________\n",
      "conv2d_13 (Conv2D)           (None, 13, 13, 64)        18496     \n",
      "_________________________________________________________________\n",
      "conv2d_14 (Conv2D)           (None, 11, 11, 64)        36928     \n",
      "_________________________________________________________________\n",
      "max_pooling2d_6 (MaxPooling2 (None, 5, 5, 64)          0         \n",
      "_________________________________________________________________\n",
      "dropout_8 (Dropout)          (None, 5, 5, 64)          0         \n",
      "_________________________________________________________________\n",
      "flatten_3 (Flatten)          (None, 1600)              0         \n",
      "_________________________________________________________________\n",
      "dense_5 (Dense)              (None, 512)               819712    \n",
      "_________________________________________________________________\n",
      "dropout_9 (Dropout)          (None, 512)               0         \n",
      "_________________________________________________________________\n",
      "dense_6 (Dense)              (None, 10)                5130      \n",
      "=================================================================\n",
      "Total params: 889,834\n",
      "Trainable params: 889,834\n",
      "Non-trainable params: 0\n",
      "_________________________________________________________________\n"
     ]
    }
   ],
   "source": [
    "model.summary()"
   ]
  },
  {
   "cell_type": "code",
   "execution_count": 42,
   "metadata": {
    "collapsed": true
   },
   "outputs": [],
   "source": [
    "model.compile(loss='categorical_crossentropy',\n",
    "              optimizer='adam',\n",
    "              metrics=['accuracy'])\n",
    "x_train=np.reshape(x_train,(20000,28,28,1))\n",
    "x_test=np.reshape(x_test,(2000,28,28,1))\n",
    "x_train=x_train.astype('float32')\n",
    "x_test=x_test.astype('float32')\n",
    "#x_train /= 255\n",
    "#x_test /= 255"
   ]
  },
  {
   "cell_type": "code",
   "execution_count": 43,
   "metadata": {},
   "outputs": [
    {
     "name": "stdout",
     "output_type": "stream",
     "text": [
      "Train on 20000 samples, validate on 2000 samples\n",
      "Epoch 1/25\n",
      "20000/20000 [==============================] - 141s 7ms/step - loss: 0.7059 - acc: 0.7859 - val_loss: 0.3534 - val_acc: 0.8935\n",
      "Epoch 2/25\n",
      "20000/20000 [==============================] - 131s 7ms/step - loss: 0.4606 - acc: 0.8610 - val_loss: 0.3013 - val_acc: 0.9065\n",
      "Epoch 3/25\n",
      "20000/20000 [==============================] - 134s 7ms/step - loss: 0.3970 - acc: 0.8795 - val_loss: 0.2744 - val_acc: 0.9210\n",
      "Epoch 4/25\n",
      "20000/20000 [==============================] - 139s 7ms/step - loss: 0.3521 - acc: 0.8911 - val_loss: 0.2618 - val_acc: 0.9220\n",
      "Epoch 5/25\n",
      "20000/20000 [==============================] - 135s 7ms/step - loss: 0.3229 - acc: 0.8977 - val_loss: 0.2554 - val_acc: 0.9225\n",
      "Epoch 6/25\n",
      "20000/20000 [==============================] - 131s 7ms/step - loss: 0.2946 - acc: 0.9076 - val_loss: 0.2480 - val_acc: 0.9255\n",
      "Epoch 7/25\n",
      "20000/20000 [==============================] - 133s 7ms/step - loss: 0.2731 - acc: 0.9136 - val_loss: 0.2614 - val_acc: 0.9260\n",
      "Epoch 8/25\n",
      "20000/20000 [==============================] - 130s 7ms/step - loss: 0.2539 - acc: 0.9193 - val_loss: 0.2519 - val_acc: 0.9315\n",
      "Epoch 9/25\n",
      "20000/20000 [==============================] - 132s 7ms/step - loss: 0.2282 - acc: 0.9249 - val_loss: 0.2536 - val_acc: 0.9310\n",
      "Epoch 10/25\n",
      "20000/20000 [==============================] - 131s 7ms/step - loss: 0.2138 - acc: 0.9307 - val_loss: 0.2629 - val_acc: 0.9315\n",
      "Epoch 11/25\n",
      "20000/20000 [==============================] - 132s 7ms/step - loss: 0.1977 - acc: 0.9365 - val_loss: 0.2718 - val_acc: 0.9335\n",
      "Epoch 12/25\n",
      "20000/20000 [==============================] - 131s 7ms/step - loss: 0.1826 - acc: 0.9404 - val_loss: 0.2567 - val_acc: 0.9325\n",
      "Epoch 13/25\n",
      "20000/20000 [==============================] - 131s 7ms/step - loss: 0.1707 - acc: 0.9446 - val_loss: 0.2717 - val_acc: 0.9315\n",
      "Epoch 14/25\n",
      "20000/20000 [==============================] - 132s 7ms/step - loss: 0.1609 - acc: 0.9494 - val_loss: 0.2727 - val_acc: 0.9335\n",
      "Epoch 15/25\n",
      "20000/20000 [==============================] - 132s 7ms/step - loss: 0.1554 - acc: 0.9475 - val_loss: 0.2819 - val_acc: 0.9345\n",
      "Epoch 16/25\n",
      "20000/20000 [==============================] - 132s 7ms/step - loss: 0.1433 - acc: 0.9547 - val_loss: 0.2785 - val_acc: 0.9300\n",
      "Epoch 17/25\n",
      "20000/20000 [==============================] - 131s 7ms/step - loss: 0.1320 - acc: 0.9573 - val_loss: 0.3165 - val_acc: 0.9285\n",
      "Epoch 18/25\n",
      "20000/20000 [==============================] - 130s 7ms/step - loss: 0.1259 - acc: 0.9587 - val_loss: 0.2945 - val_acc: 0.9260\n",
      "Epoch 19/25\n",
      "20000/20000 [==============================] - 130s 6ms/step - loss: 0.1227 - acc: 0.9600 - val_loss: 0.3011 - val_acc: 0.9315\n",
      "Epoch 20/25\n",
      "20000/20000 [==============================] - 130s 7ms/step - loss: 0.1186 - acc: 0.9611 - val_loss: 0.2912 - val_acc: 0.9325\n",
      "Epoch 21/25\n",
      "20000/20000 [==============================] - 135s 7ms/step - loss: 0.1122 - acc: 0.9635 - val_loss: 0.3086 - val_acc: 0.9270\n",
      "Epoch 22/25\n",
      "20000/20000 [==============================] - 132s 7ms/step - loss: 0.1071 - acc: 0.9665 - val_loss: 0.3106 - val_acc: 0.9305\n",
      "Epoch 23/25\n",
      "20000/20000 [==============================] - 132s 7ms/step - loss: 0.1006 - acc: 0.9681 - val_loss: 0.3102 - val_acc: 0.9315\n",
      "Epoch 24/25\n",
      "20000/20000 [==============================] - 133s 7ms/step - loss: 0.1057 - acc: 0.9675 - val_loss: 0.2914 - val_acc: 0.9340\n",
      "Epoch 25/25\n",
      "20000/20000 [==============================] - 133s 7ms/step - loss: 0.1008 - acc: 0.9681 - val_loss: 0.2862 - val_acc: 0.9265\n"
     ]
    },
    {
     "data": {
      "text/plain": [
       "<keras.callbacks.History at 0xa73d630>"
      ]
     },
     "execution_count": 43,
     "metadata": {},
     "output_type": "execute_result"
    }
   ],
   "source": [
    "model.fit(x_train[:20000], y_train[:20000],\n",
    "          batch_size=batch_size,\n",
    "          epochs=nb_epoch,\n",
    "          validation_data=(x_test[:2000],y_test[:2000]),\n",
    "          shuffle=True)"
   ]
  },
  {
   "cell_type": "code",
   "execution_count": 44,
   "metadata": {},
   "outputs": [
    {
     "name": "stdout",
     "output_type": "stream",
     "text": [
      "2000/2000 [==============================] - 6s 3ms/step\n"
     ]
    },
    {
     "data": {
      "text/plain": [
       "[0.28618895853147841, 0.92649999999999999]"
      ]
     },
     "execution_count": 44,
     "metadata": {},
     "output_type": "execute_result"
    }
   ],
   "source": [
    "#evaluating model on test\n",
    "model.evaluate(x_test,y_test)"
   ]
  },
  {
   "cell_type": "code",
   "execution_count": 53,
   "metadata": {},
   "outputs": [],
   "source": [
    "pred=model.predict(x_test)\n",
    "import pandas as pd\n",
    "df=pd.DataFrame(pred)"
   ]
  },
  {
   "cell_type": "code",
   "execution_count": 54,
   "metadata": {
    "collapsed": true
   },
   "outputs": [],
   "source": [
    "?pd.DataFrame"
   ]
  },
  {
   "cell_type": "code",
   "execution_count": 51,
   "metadata": {},
   "outputs": [
    {
     "ename": "AttributeError",
     "evalue": "'numpy.ndarray' object has no attribute 'to_csv'",
     "output_type": "error",
     "traceback": [
      "\u001b[1;31m---------------------------------------------------------------------------\u001b[0m",
      "\u001b[1;31mAttributeError\u001b[0m                            Traceback (most recent call last)",
      "\u001b[1;32m<ipython-input-51-7f8a28683726>\u001b[0m in \u001b[0;36m<module>\u001b[1;34m()\u001b[0m\n\u001b[0;32m      1\u001b[0m \u001b[1;31m#writing the data frame into a csv file\u001b[0m\u001b[1;33m\u001b[0m\u001b[1;33m\u001b[0m\u001b[0m\n\u001b[1;32m----> 2\u001b[1;33m \u001b[0mpred\u001b[0m\u001b[1;33m.\u001b[0m\u001b[0mto_csv\u001b[0m\u001b[1;33m(\u001b[0m\u001b[1;34m'E:/Mission Data Scientist/INSOFE/classroom pdf/CNN/cifar_cnn'\u001b[0m\u001b[1;33m,\u001b[0m\u001b[0mindex\u001b[0m\u001b[1;33m=\u001b[0m\u001b[1;32mFalse\u001b[0m\u001b[1;33m)\u001b[0m\u001b[1;33m\u001b[0m\u001b[0m\n\u001b[0m",
      "\u001b[1;31mAttributeError\u001b[0m: 'numpy.ndarray' object has no attribute 'to_csv'"
     ]
    }
   ],
   "source": [
    "#writing the data frame into a csv file\n",
    "pred.to\n",
    "pred.to_csv('E:/Mission Data Scientist/INSOFE/classroom pdf/CNN/cifar_cnn',index=False)"
   ]
  }
 ],
 "metadata": {
  "kernelspec": {
   "display_name": "Python 3",
   "language": "python",
   "name": "python3"
  },
  "language_info": {
   "codemirror_mode": {
    "name": "ipython",
    "version": 3
   },
   "file_extension": ".py",
   "mimetype": "text/x-python",
   "name": "python",
   "nbconvert_exporter": "python",
   "pygments_lexer": "ipython3",
   "version": "3.6.1"
  }
 },
 "nbformat": 4,
 "nbformat_minor": 2
}
